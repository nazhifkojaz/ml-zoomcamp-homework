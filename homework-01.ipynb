{
 "cells": [
  {
   "cell_type": "markdown",
   "id": "244e394e",
   "metadata": {},
   "source": [
    "# Imports & Data Load"
   ]
  },
  {
   "cell_type": "code",
   "execution_count": 50,
   "id": "e987e1e0",
   "metadata": {},
   "outputs": [],
   "source": [
    "import pandas as pd\n",
    "import numpy as np"
   ]
  },
  {
   "cell_type": "code",
   "execution_count": 2,
   "id": "c952d4a0",
   "metadata": {},
   "outputs": [],
   "source": [
    "# load the data\n",
    "data = pd.read_csv('https://raw.githubusercontent.com/alexeygrigorev/datasets/master/car_fuel_efficiency.csv')"
   ]
  },
  {
   "cell_type": "markdown",
   "id": "a38916df",
   "metadata": {},
   "source": [
    "# Q1 -> pandas version"
   ]
  },
  {
   "cell_type": "code",
   "execution_count": null,
   "id": "ffd4654d",
   "metadata": {},
   "outputs": [
    {
     "data": {
      "text/plain": [
       "'2.3.2'"
      ]
     },
     "execution_count": 4,
     "metadata": {},
     "output_type": "execute_result"
    }
   ],
   "source": [
    "# Q1 -> pandas version (2.3.2)\n",
    "pd.__version__"
   ]
  },
  {
   "cell_type": "markdown",
   "id": "438ec212",
   "metadata": {},
   "source": [
    "as shown, pandas version is '2.3.2'"
   ]
  },
  {
   "cell_type": "markdown",
   "id": "88449f56",
   "metadata": {},
   "source": [
    "# Q2 -> Records Count"
   ]
  },
  {
   "cell_type": "code",
   "execution_count": null,
   "id": "bc4fd47d",
   "metadata": {},
   "outputs": [
    {
     "data": {
      "text/plain": [
       "(9704, 11)"
      ]
     },
     "execution_count": 5,
     "metadata": {},
     "output_type": "execute_result"
    }
   ],
   "source": [
    "# Q2 -> 9704 rows\n",
    "data.shape"
   ]
  },
  {
   "cell_type": "markdown",
   "id": "564de8cb",
   "metadata": {},
   "source": [
    "as shown, there are 9704 rows (records) in the dataframe"
   ]
  },
  {
   "cell_type": "markdown",
   "id": "18782d24",
   "metadata": {},
   "source": [
    "# Q3 -> Fuel types"
   ]
  },
  {
   "cell_type": "code",
   "execution_count": 20,
   "id": "29a2159a",
   "metadata": {},
   "outputs": [
    {
     "data": {
      "text/plain": [
       "2"
      ]
     },
     "execution_count": 20,
     "metadata": {},
     "output_type": "execute_result"
    }
   ],
   "source": [
    "# Q3 -> 2 types, gasoline and diesel\n",
    "data['fuel_type'].nunique(dropna=False)"
   ]
  },
  {
   "cell_type": "markdown",
   "id": "573c60bb",
   "metadata": {},
   "source": [
    "as shown, there are 2 unique fuel types"
   ]
  },
  {
   "cell_type": "markdown",
   "id": "1f72d8c9",
   "metadata": {},
   "source": [
    "# Q4 -> Missing Values"
   ]
  },
  {
   "cell_type": "code",
   "execution_count": null,
   "id": "eea8d528",
   "metadata": {},
   "outputs": [
    {
     "data": {
      "text/plain": [
       "engine_displacement      0\n",
       "num_cylinders          482\n",
       "horsepower             708\n",
       "vehicle_weight           0\n",
       "acceleration           930\n",
       "model_year               0\n",
       "origin                   0\n",
       "fuel_type                0\n",
       "drivetrain               0\n",
       "num_doors              502\n",
       "fuel_efficiency_mpg      0\n",
       "dtype: int64"
      ]
     },
     "execution_count": 16,
     "metadata": {},
     "output_type": "execute_result"
    }
   ],
   "source": [
    "# Q4 -> 4 columns with missing values\n",
    "data.isna().sum()"
   ]
  },
  {
   "cell_type": "markdown",
   "id": "67f6d8b9",
   "metadata": {},
   "source": [
    "as shown, there are 4 columns containing missing values."
   ]
  },
  {
   "cell_type": "markdown",
   "id": "1685a259",
   "metadata": {},
   "source": [
    "# Q5 -> Max Fuel Efficiency"
   ]
  },
  {
   "cell_type": "code",
   "execution_count": 21,
   "id": "75748899",
   "metadata": {},
   "outputs": [
    {
     "data": {
      "text/plain": [
       "origin\n",
       "Europe    3254\n",
       "Asia      3247\n",
       "USA       3203\n",
       "Name: count, dtype: int64"
      ]
     },
     "execution_count": 21,
     "metadata": {},
     "output_type": "execute_result"
    }
   ],
   "source": [
    "data['origin'].value_counts()"
   ]
  },
  {
   "cell_type": "code",
   "execution_count": null,
   "id": "13df92d0",
   "metadata": {},
   "outputs": [],
   "source": [
    "# we'll reuse this later for final question\n",
    "data_asia = data[\n",
    "    data['origin'] == 'Asia'\n",
    "].copy()"
   ]
  },
  {
   "cell_type": "code",
   "execution_count": 37,
   "id": "8c5a0a0f",
   "metadata": {},
   "outputs": [
    {
     "data": {
      "text/plain": [
       "23.759122836520497"
      ]
     },
     "execution_count": 37,
     "metadata": {},
     "output_type": "execute_result"
    }
   ],
   "source": [
    "data_asia['fuel_efficiency_mpg'].max()"
   ]
  },
  {
   "cell_type": "markdown",
   "id": "0d693692",
   "metadata": {},
   "source": [
    "as shown above, the max fuel efficiency for cars from Asia is 23.75"
   ]
  },
  {
   "cell_type": "markdown",
   "id": "09a0db7c",
   "metadata": {},
   "source": [
    "# Q6 -> median value of horsepower"
   ]
  },
  {
   "cell_type": "code",
   "execution_count": 28,
   "id": "c64e79df",
   "metadata": {},
   "outputs": [
    {
     "name": "stdout",
     "output_type": "stream",
     "text": [
      "median horsepower: 149.0, mode horsepower: 152.0\n"
     ]
    }
   ],
   "source": [
    "median_hp = data['horsepower'].median()\n",
    "mode_hp = data['horsepower'].mode()[0]\n",
    "print(f\"median horsepower: {median_hp}, mode horsepower: {mode_hp}\")"
   ]
  },
  {
   "cell_type": "code",
   "execution_count": 32,
   "id": "5a401f9e",
   "metadata": {},
   "outputs": [],
   "source": [
    "# fill the missing horsepower rows with its most frequent value (mode)\n",
    "data_filled = data.copy() # without modifying the original data (safer)\n",
    "data_filled['horsepower'] = data_filled['horsepower'].fillna(value=mode_hp)"
   ]
  },
  {
   "cell_type": "code",
   "execution_count": 35,
   "id": "44746ccd",
   "metadata": {},
   "outputs": [
    {
     "name": "stdout",
     "output_type": "stream",
     "text": [
      "updated median horsepower: 152.0\n"
     ]
    }
   ],
   "source": [
    "updated_median_hp = data_filled['horsepower'].median()\n",
    "print(f\"updated median horsepower: {updated_median_hp}\")"
   ]
  },
  {
   "cell_type": "code",
   "execution_count": 34,
   "id": "08eb6684",
   "metadata": {},
   "outputs": [
    {
     "data": {
      "text/plain": [
       "True"
      ]
     },
     "execution_count": 34,
     "metadata": {},
     "output_type": "execute_result"
    }
   ],
   "source": [
    "(updated_median_hp > median_hp)"
   ]
  },
  {
   "cell_type": "markdown",
   "id": "6cd92faf",
   "metadata": {},
   "source": [
    "as shown, the median value of 'horsepower' column in the updated data (missing rows filled with its frequent value) is increased compared to the original data"
   ]
  },
  {
   "cell_type": "markdown",
   "id": "b2aa405d",
   "metadata": {},
   "source": [
    "# Q7 -> Sum of Weights\n",
    "(and reuses the `data_asia` that we created in Q5)"
   ]
  },
  {
   "cell_type": "code",
   "execution_count": 46,
   "id": "3dd146e7",
   "metadata": {},
   "outputs": [],
   "source": [
    "# get vehicle_weight and `model_year`, take the first 7 rows, and get its numpy array (let's say, X)\n",
    "filtered_data = data_asia[['vehicle_weight', 'model_year']].iloc[:7]\n",
    "X = filtered_data.values"
   ]
  },
  {
   "cell_type": "code",
   "execution_count": 47,
   "id": "3d6b1888",
   "metadata": {},
   "outputs": [],
   "source": [
    "# get X transpose\n",
    "X_T = X.T"
   ]
  },
  {
   "cell_type": "code",
   "execution_count": 64,
   "id": "4e8cd43b",
   "metadata": {},
   "outputs": [],
   "source": [
    "# compute matrix-matrix multiplication\n",
    "XTX = X_T @ X # or np.matmul"
   ]
  },
  {
   "cell_type": "code",
   "execution_count": 65,
   "id": "0393f002",
   "metadata": {},
   "outputs": [
    {
     "data": {
      "text/plain": [
       "array([[62248334.33150762, 41431216.5073268 ],\n",
       "       [41431216.5073268 , 28373339.        ]])"
      ]
     },
     "execution_count": 65,
     "metadata": {},
     "output_type": "execute_result"
    }
   ],
   "source": [
    "XTX"
   ]
  },
  {
   "cell_type": "code",
   "execution_count": 66,
   "id": "2b94a850",
   "metadata": {},
   "outputs": [],
   "source": [
    "# invert XTX\n",
    "XTX_inv = np.linalg.inv(XTX)"
   ]
  },
  {
   "cell_type": "code",
   "execution_count": 55,
   "id": "8f6d1d36",
   "metadata": {},
   "outputs": [],
   "source": [
    "# create y\n",
    "y = [1100, 1300, 800, 900, 1000, 1100, 1200]"
   ]
  },
  {
   "cell_type": "code",
   "execution_count": 69,
   "id": "ebfcdd34",
   "metadata": {},
   "outputs": [],
   "source": [
    "# matmul XTX_invert and X_T, then matmul the result and y to get the weights\n",
    "w = (XTX_inv @ X_T) @ y # also mathematically eqv to XTX_inv (X_T @ y) since matmul is associative"
   ]
  },
  {
   "cell_type": "code",
   "execution_count": 70,
   "id": "f3755636",
   "metadata": {},
   "outputs": [
    {
     "data": {
      "text/plain": [
       "array([0.01386421, 0.5049067 ])"
      ]
     },
     "execution_count": 70,
     "metadata": {},
     "output_type": "execute_result"
    }
   ],
   "source": [
    "w"
   ]
  },
  {
   "cell_type": "code",
   "execution_count": 71,
   "id": "b830b72e",
   "metadata": {},
   "outputs": [
    {
     "data": {
      "text/plain": [
       "np.float64(0.5187709081074023)"
      ]
     },
     "execution_count": 71,
     "metadata": {},
     "output_type": "execute_result"
    }
   ],
   "source": [
    "# sum of the weights\n",
    "sum(w)"
   ]
  },
  {
   "cell_type": "markdown",
   "id": "ebcaa8a0",
   "metadata": {},
   "source": [
    "as shown above, sum of the weights is `0.51`"
   ]
  }
 ],
 "metadata": {
  "kernelspec": {
   "display_name": "ml-zoomcamp",
   "language": "python",
   "name": "python3"
  },
  "language_info": {
   "codemirror_mode": {
    "name": "ipython",
    "version": 3
   },
   "file_extension": ".py",
   "mimetype": "text/x-python",
   "name": "python",
   "nbconvert_exporter": "python",
   "pygments_lexer": "ipython3",
   "version": "3.11.13"
  }
 },
 "nbformat": 4,
 "nbformat_minor": 5
}
